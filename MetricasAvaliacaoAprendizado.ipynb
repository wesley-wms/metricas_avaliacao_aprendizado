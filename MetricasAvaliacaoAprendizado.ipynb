{
  "nbformat": 4,
  "nbformat_minor": 0,
  "metadata": {
    "colab": {
      "provenance": [],
      "authorship_tag": "ABX9TyPX7eeNw23ORkzy3n/3k+Kb",
      "include_colab_link": true
    },
    "kernelspec": {
      "name": "python3",
      "display_name": "Python 3"
    },
    "language_info": {
      "name": "python"
    }
  },
  "cells": [
    {
      "cell_type": "markdown",
      "metadata": {
        "id": "view-in-github",
        "colab_type": "text"
      },
      "source": [
        "<a href=\"https://colab.research.google.com/github/wesley-wms/metricas_avaliacao_aprendizado/blob/main/MetricasAvaliacaoAprendizado.ipynb\" target=\"_parent\"><img src=\"https://colab.research.google.com/assets/colab-badge.svg\" alt=\"Open In Colab\"/></a>"
      ]
    },
    {
      "cell_type": "code",
      "execution_count": null,
      "metadata": {
        "colab": {
          "base_uri": "https://localhost:8080/"
        },
        "id": "KuPARY9K3CR3",
        "outputId": "4257d2f5-ee30-43fd-9ac3-227cde417406"
      },
      "outputs": [
        {
          "output_type": "stream",
          "name": "stdout",
          "text": [
            "Matriz de Confusão:\n",
            "[[4 2]\n",
            " [2 7]]\n",
            "falsos_negativos: 2\n",
            "verdadeiros_positivos: 7\n",
            "falsos_negativos: 2\n",
            "verdadeiros_positivos: 7\n",
            "\n",
            "Métricas de Avaliação:\n",
            "Sensibilidade: 0.78\n",
            "Especificidade: 0.67\n",
            "Acuracia: 0.73\n",
            "Precisão: 0.78\n",
            "F-score: 0.78\n"
          ]
        }
      ],
      "source": [
        "from sklearn.metrics import confusion_matrix\n",
        "\n",
        "valores_reais = [1, 1, 0, 0, 1, 0, 1, 1, 0, 0, 1, 1, 0, 1, 1]\n",
        "valores_previstos = [1, 0, 0, 0, 1, 0, 1, 1, 1, 0, 1, 0, 1, 1, 1]\n",
        "\n",
        "cm = confusion_matrix(valores_reais, valores_previstos)\n",
        "\n",
        "print(\"Matriz de Confusão:\")\n",
        "print(cm)\n",
        "\n",
        "\n",
        "def get_sensibilidade(confusion_matrix):\n",
        "    verdadeiros_positivos = cm[1][1]\n",
        "    falsos_negativos = cm[1][0]\n",
        "    sensibilidade = verdadeiros_positivos / (verdadeiros_positivos + falsos_negativos)\n",
        "    return sensibilidade\n",
        "\n",
        "def get_especificidade(confusion_matrix):\n",
        "    verdadeiros_negativos = cm[0][0]\n",
        "    falsos_positivos = cm[0][1]\n",
        "    especificidade = verdadeiros_negativos / (verdadeiros_negativos + falsos_positivos)\n",
        "    return especificidade\n",
        "\n",
        "def get_acuracia(confusion_matrix):\n",
        "    verdadeiros_negativos = cm[0][0]\n",
        "    verdadeiros_positivos = cm[1][1]\n",
        "    total_elementos = cm[0][0] + cm[0][1] + cm[1][0] + cm[1][1]\n",
        "    acuracia = (verdadeiros_negativos + verdadeiros_positivos) / total_elementos\n",
        "    return acuracia\n",
        "\n",
        "def get_precisao(confusion_matrix):\n",
        "    verdadeiros_positivos = cm[1][1]\n",
        "    falsos_positivos = cm[0][1]\n",
        "    precisao = verdadeiros_positivos / (verdadeiros_positivos + falsos_positivos)\n",
        "    return precisao\n",
        "\n",
        "def get_f_score(confusion_matrix):\n",
        "    precisao = get_precisao(confusion_matrix)\n",
        "    sensibilidade = get_sensibilidade(confusion_matrix)\n",
        "    f1 = 2 * (precisao * sensibilidade) / (precisao + sensibilidade)\n",
        "    return f1\n",
        "\n",
        "sensibilidade = get_sensibilidade(cm)\n",
        "especificidade = get_especificidade(cm)\n",
        "acuracia = get_acuracia(cm)\n",
        "precisao = get_precisao(cm)\n",
        "f_score = get_f_score(cm)\n",
        "\n",
        "print(\"\\nMétricas de Avaliação:\")\n",
        "print(f\"Sensibilidade: {sensibilidade:.2f}\")\n",
        "print(f\"Especificidade: {especificidade:.2f}\")\n",
        "print(f\"Acuracia: {acuracia:.2f}\")\n",
        "print(f\"Precisão: {precisao:.2f}\")\n",
        "print(f\"F-score: {f_score:.2f}\")"
      ]
    }
  ]
}